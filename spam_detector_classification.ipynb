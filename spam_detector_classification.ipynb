{
 "cells": [
  {
   "cell_type": "markdown",
   "id": "634bf1c0",
   "metadata": {},
   "source": [
    "# Spam Classification Challenge"
   ]
  },
  {
   "cell_type": "markdown",
   "id": "e08b2814",
   "metadata": {},
   "source": [
    "### Step 1: Split the Data into Training and Testing Sets"
   ]
  },
  {
   "cell_type": "code",
   "execution_count": null,
   "id": "9871e0cb",
   "metadata": {},
   "outputs": [],
   "source": [
    "\n",
    "# Import necessary libraries\n",
    "import pandas as pd\n",
    "from sklearn.model_selection import train_test_split\n",
    "from sklearn.preprocessing import StandardScaler\n",
    "from sklearn.linear_model import LogisticRegression\n",
    "from sklearn.ensemble import RandomForestClassifier\n",
    "from sklearn.metrics import accuracy_score\n",
    "\n",
    "# Read the data\n",
    "url = 'https://static.bc-edx.com/ai/ail-v-1-0/m13/challenge/spam-data.csv'\n",
    "df = pd.read_csv(url)\n",
    "\n",
    "# Preview the data\n",
    "df.head()\n",
    "\n",
    "# Prediction: I expect the Random Forest model to perform better than Logistic Regression because it generally handles more complex patterns well.\n",
    "    "
   ]
  },
  {
   "cell_type": "markdown",
   "id": "55faef27",
   "metadata": {},
   "source": [
    "### Step 2: Create Labels and Features, and Split the Data"
   ]
  },
  {
   "cell_type": "code",
   "execution_count": null,
   "id": "beb028ef",
   "metadata": {},
   "outputs": [],
   "source": [
    "\n",
    "# Create the labels set (y) and features set (X)\n",
    "y = df['spam']\n",
    "X = df.drop(columns='spam')\n",
    "\n",
    "# Check the balance of the labels\n",
    "y.value_counts()\n",
    "\n",
    "# Split the data into training and testing sets\n",
    "X_train, X_test, y_train, y_test = train_test_split(X, y, test_size=0.3, random_state=1, stratify=y)\n",
    "\n",
    "# Check the shapes of the datasets\n",
    "X_train.shape, X_test.shape, y_train.shape, y_test.shape\n",
    "    "
   ]
  },
  {
   "cell_type": "markdown",
   "id": "ca13ec24",
   "metadata": {},
   "source": [
    "### Step 3: Scale the Features"
   ]
  },
  {
   "cell_type": "code",
   "execution_count": null,
   "id": "c42e50bb",
   "metadata": {},
   "outputs": [],
   "source": [
    "\n",
    "# Create a StandardScaler instance\n",
    "scaler = StandardScaler()\n",
    "\n",
    "# Fit the scaler on the training data and transform both training and testing data\n",
    "X_train_scaled = scaler.fit_transform(X_train)\n",
    "X_test_scaled = scaler.transform(X_test)\n",
    "\n",
    "# Check the first few rows of the scaled data\n",
    "X_train_scaled[:5]\n",
    "    "
   ]
  },
  {
   "cell_type": "markdown",
   "id": "50c489d7",
   "metadata": {},
   "source": [
    "### Step 4: Create and Evaluate a Logistic Regression Model"
   ]
  },
  {
   "cell_type": "code",
   "execution_count": null,
   "id": "9b48faee",
   "metadata": {},
   "outputs": [],
   "source": [
    "\n",
    "# Create a Logistic Regression model\n",
    "log_reg = LogisticRegression(random_state=1)\n",
    "\n",
    "# Fit the model to the scaled training data\n",
    "log_reg.fit(X_train_scaled, y_train)\n",
    "\n",
    "# Make predictions using the testing data\n",
    "y_pred_log_reg = log_reg.predict(X_test_scaled)\n",
    "\n",
    "# Evaluate the model performance using accuracy score\n",
    "log_reg_accuracy = accuracy_score(y_test, y_pred_log_reg)\n",
    "print(f'Logistic Regression Model Accuracy: {log_reg_accuracy:.4f}')\n",
    "    "
   ]
  },
  {
   "cell_type": "markdown",
   "id": "fe620429",
   "metadata": {},
   "source": [
    "### Step 5: Create and Evaluate a Random Forest Model"
   ]
  },
  {
   "cell_type": "code",
   "execution_count": null,
   "id": "21356b9c",
   "metadata": {},
   "outputs": [],
   "source": [
    "\n",
    "# Create a Random Forest model\n",
    "rf_model = RandomForestClassifier(random_state=1)\n",
    "\n",
    "# Fit the model to the scaled training data\n",
    "rf_model.fit(X_train_scaled, y_train)\n",
    "\n",
    "# Make predictions using the testing data\n",
    "y_pred_rf = rf_model.predict(X_test_scaled)\n",
    "\n",
    "# Evaluate the model performance using accuracy score\n",
    "rf_accuracy = accuracy_score(y_test, y_pred_rf)\n",
    "print(f'Random Forest Model Accuracy: {rf_accuracy:.4f}')\n",
    "    "
   ]
  },
  {
   "cell_type": "markdown",
   "id": "fe80a755",
   "metadata": {},
   "source": [
    "### Step 6: Evaluate the Models"
   ]
  },
  {
   "cell_type": "markdown",
   "id": "1dd92eec",
   "metadata": {},
   "source": [
    "\n",
    "- Which model performed better? Based on the accuracy scores, the model with the higher score is the better performing model.\n",
    "- How does that compare to your prediction? Compare the actual results with the initial prediction made in Step 1.\n",
    "    "
   ]
  }
 ],
 "metadata": {},
 "nbformat": 4,
 "nbformat_minor": 5
}
